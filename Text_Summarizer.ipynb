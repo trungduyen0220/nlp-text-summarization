{
  "nbformat": 4,
  "nbformat_minor": 0,
  "metadata": {
    "colab": {
      "name": "Text Summarizer.ipynb",
      "provenance": [],
      "collapsed_sections": [],
      "toc_visible": true,
      "authorship_tag": "ABX9TyMpTDA3X6r1oV8GcHI+ujx8",
      "include_colab_link": true
    },
    "kernelspec": {
      "name": "python3",
      "display_name": "Python 3"
    }
  },
  "cells": [
    {
      "cell_type": "markdown",
      "metadata": {
        "id": "view-in-github",
        "colab_type": "text"
      },
      "source": [
        "<a href=\"https://colab.research.google.com/github/trungduyen0220/nlp-text-summarization/blob/master/Text_Summarizer.ipynb\" target=\"_parent\"><img src=\"https://colab.research.google.com/assets/colab-badge.svg\" alt=\"Open In Colab\"/></a>"
      ]
    },
    {
      "cell_type": "markdown",
      "metadata": {
        "id": "kvPDxNEN40yC",
        "colab_type": "text"
      },
      "source": [
        "# Text Summarizer"
      ]
    },
    {
      "cell_type": "markdown",
      "metadata": {
        "id": "HZ0g9p_645sN",
        "colab_type": "text"
      },
      "source": [
        "###  Import the required libraries"
      ]
    },
    {
      "cell_type": "code",
      "metadata": {
        "id": "6SgSDZJpTjEZ",
        "colab_type": "code",
        "colab": {
          "base_uri": "https://localhost:8080/",
          "height": 204
        },
        "outputId": "979c2403-6a28-4ea7-da82-ac86eef425d5"
      },
      "source": [
        "import numpy as np\n",
        "import pandas as pd\n",
        "from bs4 import BeautifulSoup\n",
        "import nltk\n",
        "import urllib.request\n",
        "from nltk.corpus import stopwords\n",
        "from nltk.tokenize import word_tokenize, sent_tokenize\n",
        "from string import punctuation\n",
        "from heapq import nlargest\n",
        "from collections import defaultdict\n",
        "from string import digits\n",
        "import re\n",
        "import string\n",
        "import random\n",
        "\n",
        "from nltk.tokenize import word_tokenize\n",
        "from nltk.corpus import stopwords\n",
        "from nltk.stem.wordnet import WordNetLemmatizer\n",
        "from nltk.corpus.reader.wordnet import NOUN, VERB, ADJ\n",
        "\n",
        "nltk.download('stopwords')\n",
        "nltk.download('punkt')\n",
        "nltk.download('wordnet')\n",
        "nltk.download('averaged_perceptron_tagger')"
      ],
      "execution_count": 1,
      "outputs": [
        {
          "output_type": "stream",
          "text": [
            "[nltk_data] Downloading package stopwords to /root/nltk_data...\n",
            "[nltk_data]   Package stopwords is already up-to-date!\n",
            "[nltk_data] Downloading package punkt to /root/nltk_data...\n",
            "[nltk_data]   Package punkt is already up-to-date!\n",
            "[nltk_data] Downloading package wordnet to /root/nltk_data...\n",
            "[nltk_data]   Package wordnet is already up-to-date!\n",
            "[nltk_data] Downloading package averaged_perceptron_tagger to\n",
            "[nltk_data]     /root/nltk_data...\n",
            "[nltk_data]   Package averaged_perceptron_tagger is already up-to-\n",
            "[nltk_data]       date!\n"
          ],
          "name": "stdout"
        },
        {
          "output_type": "execute_result",
          "data": {
            "text/plain": [
              "True"
            ]
          },
          "metadata": {
            "tags": []
          },
          "execution_count": 1
        }
      ]
    },
    {
      "cell_type": "markdown",
      "metadata": {
        "id": "FDHlGisk494u",
        "colab_type": "text"
      },
      "source": [
        "### Crawl data using Beautiful Soup"
      ]
    },
    {
      "cell_type": "code",
      "metadata": {
        "id": "f_1vGN-bTmLl",
        "colab_type": "code",
        "colab": {}
      },
      "source": [
        "url=\"https://en.wikipedia.org/wiki/Blackpink\"\n",
        "request = urllib.request.urlopen(url).read().decode('utf8','ignore')\n",
        "soup= BeautifulSoup(request, 'html.parser')\n",
        "text_p = soup.find_all('p')"
      ],
      "execution_count": 2,
      "outputs": []
    },
    {
      "cell_type": "markdown",
      "metadata": {
        "id": "fcpBhE4F5GBW",
        "colab_type": "text"
      },
      "source": [
        "### Data preprocessing"
      ]
    },
    {
      "cell_type": "markdown",
      "metadata": {
        "id": "qi_h8g6j5Jyl",
        "colab_type": "text"
      },
      "source": [
        "#### 1.Handling strange data"
      ]
    },
    {
      "cell_type": "code",
      "metadata": {
        "id": "PJOk7nlpTzqc",
        "colab_type": "code",
        "colab": {
          "base_uri": "https://localhost:8080/",
          "height": 54
        },
        "outputId": "e488f410-a6a7-4837-8173-b672a89cbf53"
      },
      "source": [
        "text = \"\"\n",
        "for i in range(0,len(text_p)):\n",
        "    text += text_p[i].text\n",
        "\n",
        "text = text.replace(\"BLΛƆKPIИK\", \"Blackpink\").replace(\"blλɔkpiиk\", \"Blackpink\").replace(\"블랙핑크\",\"Blackpink\")\n",
        "text = re.sub(r'\\[.*?\\]', \"\",text)\n",
        "text = text.replace(\"\\n\", \" \")\n",
        "text = text.replace(\".\", \". \")\n",
        "print(text)"
      ],
      "execution_count": 3,
      "outputs": [
        {
          "output_type": "stream",
          "text": [
            " Blackpink (Hangul: Blackpink; commonly stylized as BLACKPINK or Blackpink) is a South Korean girl group formed by YG Entertainment, consisting of members Jisoo, Jennie, Rosé, and Lisa.  The group debuted in August 2016 with their single album Square One, which featured \"Whistle\" and \"Boombayah\", their first number-one hits on South Korea's Gaon Digital Chart and the Billboard World Digital Song Sales chart, respectively.  Blackpink is the highest-charting female Korean act on the Billboard Hot 100, peaking at number 13 with their 2020 single \"Ice Cream\", and on the Billboard 200, peaking at number 24 with Kill This Love (2019).  They were the first Korean girl group to enter and top Billboard's Emerging Artists chart and to top the Billboard's World Digital Song Sales chart three times.  Blackpink is also the first female Korean act to receive a certification from the Recording Industry Association of America (RIAA) with their hit single \"Ddu-Du Ddu-Du\" (2018), which currently has the most-viewed music video by a Korean group on YouTube.  They have the most top 40 hits in the United Kingdom among all Korean artists.  Their 2018 single \"Kiss and Make Up\" was the first-ever song by a Korean group to receive a certification from the British Phonographic Industry (BPI) and to be certified platinum by the Australian Recording Industry Association (ARIA).  Furthermore, their 2020 single \"How You Like That\" was the first-ever song by a Korean act to receive a certification from Pro-Música Brasil.  Blackpink has broken numerous online records throughout their career; the music videos for \"Kill This Love\" (2019) and \"How You Like That\" each set records for the most-viewed music video within the first 24 hours of release, with the latter breaking three and setting two Guinness World Records.  They are also the first Korean group to have two music videos with at least one billion views on YouTube.  \"How You Like That\" also became the fastest Korean single to reach double platinum on QQ Music, China's biggest music streaming platform.  Blackpink's other accolades include the New Artist of the Year Awards at the 31st Golden Disc Awards and the 26th Seoul Music Awards, as well as recognition as the most powerful celebrities in South Korea by Forbes Korea in 2019, and as the first female Korean group on Forbes' 30 Under 30 Asia.  They were also the first K-pop girl group to win an MTV Music Video Award.  They are currently the most-followed girl group on Spotify and the most-subscribed music group, female act, and Asian act on YouTube.  Blackpink began forming when YG Entertainment held tryouts worldwide for preteen or teenage recruits to create a new girl group after launching its first girl group, 2NE1, in 2009.  According to the members, joining the label as trainees was similar to enrolling in a full-time pop-star academy, with Jennie calling it \"more strict than school\" and Rosé comparing it to The X Factor with dorm rooms.  For members who had left behind life outside of South Korea, the pace of training alongside the culture shock was tough.  Preparations for Blackpink's debut began as early as 2011 when YG Entertainment revealed on November 14, 2011 that the label's new girl group would debut in the early half of 2012 featuring at least seven members.  From then, there were numerous news and rumors surrounding the new girl group about their debut being delayed but there was no official information.  It was only until May 18, 2016 that YG Entertainment confirmed the new girl group, stating that the members were selected through years of stiff competition and confirming that the debut would be in July.  The label later confirmed that Jang Hanna and Moon Sua, who were introduced to the public as potential members of the new girl group, were not included in the debut lineup.  Jennie was the first member revealed to be in the group on June 1.  Jennie joined YG Entertainment as a trainee in 2010 after moving back to South Korea from New Zealand.  In 2012, she was introduced to the public for the first time through a photo titled \"Who's that girl?\" via the official blog of YG Entertainment on April 10.  Jennie continued to be promoted as a member of the new girl group with multiple collaborations, such as starring in G-Dragon's 2012 music video \"That XX\" from One of a Kind EP and featuring in G-Dragon's \"Black\" from 2013 album Coup d'etat, and Lee Hi's \"Special\" from 2013 album First Love.  Lisa was revealed to be the second member on June 8, 2016.  Lisa was the only individual among 4,000 applicants to pass the 2010 YG Entertainment audition in her native Thailand, becoming the first foreign trainee to join the label in 2011.  She was first introduced in 2012 with a video that was posted on YG Entertainment's official YouTube channel titled \"Who's That Girl???\".  Lisa also appeared in the music video for Taeyang's \"Ringa Linga\" in 2013.  She then took on her first modelling job in 2015 for street-wear brand Nona9on, following by modelling for cosmetics brand Moonshot in 2016.  On June 15, Jisoo was revealed to be the third member.  Jisoo joined YG Entertainment as an trainee in July 2011.  She appeared in several advertisements and music videos in her pre-debut years, including \"Spoiler + Happy Ending\" (2014) from Epik High's studio album Shoebox and Hi Suhyun's music video \"I'm Different\" (2014).  She also made a cameo appearance in 2015 drama The Producers.  Rosé was revealed to be a member on June 22, 2016.  She ranked first among 700 applicants in the 2012 YG Entertainment audition in Australia, resulting in a trainee contract with the label and a move to Seoul to begin her training.  She was featured in G-Dragon's track \"Without You\" from One of a Kind EP in 2012 as \"? from YG New Girl Group\".  However, her featuring vocals and identity was kept secret for almost four years until the her official public introduction when it was revealed that she participated in the song.  On June 29, YG Entertainment confirmed that the new girl group includes four members instead of the original plan of having nine members, and revealed Blackpink as the group's official name.  According to a representative, Blackpink meant \"pretty isn't everything\" and symbolized that \"they are a team that encompasses not only beauty, but also great talent. \" Jisoo later disclosed in a press conference that they almost debuted as 'Pink Punk', 'Baby Monster' or 'Magnum'.  Blackpink released their first dance practice video on July 6 to great attention from viewers.  On July 29, YG Entertainment confirmed that Blackpink's debut would be on August 8, 2016.  Promotions for their debut began in the first week of August 2016 with the release of teaser images, videos, and advertisements.  The first girl group to debut under YG Entertainment in seven years, Blackpink released their debut single album, Square One, on August 8, 2016, consisting of tracks \"Boombayah\" and \"Whistle\".  They charted at number one and two on the Billboard World Digital Song Sales chart, which made Blackpink the fastest act to achieve such feat and the third Korean artist to hold the top two positions simultaneously, after label mates Psy and Big Bang.  \"Whistle\" quickly topped the digital, download, streaming, and mobile charts on Gaon.  The group also reached number one on the weekly, popularity, music video, and K-pop music video charts of China's biggest music-streaming service, QQ Music.  Blackpink's first music show performance was aired on August 14, 2016, on SBS's Inkigayo.  They won first place on Inkigayo 13 days after their debut, breaking the record for the shortest time for a girl group to win on a music program after debut.  They wrapped up their promotions for Square One on September 11, 2016, with another win on Inkigayo.  Blackpink released their second single album, Square Two, consisting of tracks \"Playing with Fire\" and \"Stay\", on November 1, 2016.  The group began their promotions on Inkigayo on November 6 and on Mnet's M Countdown on November 10.  \"Playing with Fire\" was Blackpink's second single to reach number one on the Billboard World Digital Song Sales chart and first K-pop girl group song to chart on the Canadian Hot 100.  In South Korea, \"Playing with Fire\" peaked at number three while \"Stay\" placed in the top ten.  Blackpink's commercial success in their first five months earned them several rookie awards at major Korean year-end music award shows, including the Asia Artist Awards, Melon Music Awards, Golden Disc Awards, Seoul Music Awards, and Gaon Chart Music Awards.  Additionally, Billboard named them one of the best new K-pop groups of 2016.  On January 17, 2017, Blackpink revealed the name of their fan club—\"Blink\", a portmanteau of \"black\" and \"pink. \" On June 22, the group released their first standalone digital single, \"As If It's Your Last\".  It was described as a \"mixed genre of music\" and a change of sound from their previous releases.  The song debuted at number one on Billboard's World Digital Song Sales chart one day after release, making it their third number-one hit on the chart.  The music video for the song later went on to break the record for the most-liked music video by a Korean girl group on YouTube as well as the most-viewed K-pop group music video in the first 24 hours of release.  On July 20, 2017, Blackpink held a showcase at Nippon Budokan in Tokyo, which was attended by more than 14,000 people, with as many as 200,000 people attempting to purchase tickets.  The group made their Japanese debut on August 30, 2017, with the release of a self-titled Japanese extended play that included Japanese versions of their previous singles.  The EP debuted and peaked at the top of the Oricon Albums Chart.  Blackpink ranked among YouTube's Global Top 25 Songs of the Summer for 2017 with \"As If It's Your Last\".  On January 6, 2018, Blackpink released the first episode of their first reality show Blackpink House, which were comprised of 12 episodes releasing throughout 2018 following the four members spending 100 days of vacation as they moved into their new dorm, via their official V Live and Youtube channels.  On March 28, Blackpink re-released their debut Japanese EP under the name Re:Blackpink.  The digital version included the same songs as the original release, while the physical version included a DVD containing all music videos and six songs in the Korean language.  On June 15, 2018, the group released their first Korean-language EP, titled Square Up.  The lead single, \"Ddu-Du Ddu-Du\", debuted at number 17 on the Official Trending Chart in the United Kingdom, making them the first female K-pop group to enter the chart since its launch in 2016.  The single also debuted at number 55 on the Billboard Hot 100, with 12. 4 million U. S.  streams and 7,000 downloads in the tracking week ending June 21, 2018, making Blackpink the highest-charting Korean girl group on the chart.  The single also debuted at number 39 on the U. S.  Streaming Songs chart, making Blackpink became the first K-pop girl group to enter the chart.  Square Up also brought the group their first entry and the highest-charting album by an all-female K-pop group at the time of its release on the Billboard 200, debuting at number 40 with 14,000 equivalent units.  The EP also topped the Billboard World Albums chart.  In South Korea, Square Up debuted at number one on Gaon Albums Chart.  \"Ddu-Du Ddu-Du\" peaked at number one on the digital, download, streaming, and mobile charts on Gaon in its second week, while \"Forever Young\" peaked at number two.  YouTube's official tally saw the music video for \"Ddu-Du Ddu-Du\" garner a total of 36. 2 million views within 24 hours after its release, making it the most-viewed online video in the first 24 hours by a Korean act and the second most-watched music video of all time in first 24 hours of release at that time.  Blackpink embarked on their sold-out first Japan tour, Blackpink Arena Tour 2018, in Osaka from July 24 to 25 to promote their Japanese EP.  The tour was initially composed of 6 shows throughout Osaka, Fukuoka and Chiba, but an additional show in Chiba was added due to overwhelming demand.  The final stop of the tour was later added for December 24 at Kyocera Dome Osaka as a Christmas gift for fans, which they later performed to a sold-out crowd of 50,000.  On September 12, it was announced that the group would hold their first concert in Seoul titled \"Blackpink 2018 Tour  Seoul x BC Card\" at the Olympic Gymnastics Arena.  The concert led to the In Your Area World Tour, which continued throughout 2019 and early 2020 in North America, Europe, Oceania and Asia.  The tour ultimately became the highest-grossing tour by a Korean girl group by the end of its run.  On October 19, English singer Dua Lipa released \"Kiss and Make Up\" with Blackpink, a new track for the re-released edition of her self-titled debut album.  \"Kiss and Make Up\" debuted at number 93 at the Billboard Hot 100, marking Blackpink's second entry in the chart and making them the only Korean girl group to score at least two entries on the chart.  The song also became their second entry in the UK Singles Chart, peaking at number 36, and their first top 40 entry.  They were the first female Korean group and third Korean act overall to reach the top 40.  In October 2018, the group signed with Interscope Records in a global partnership with YG Entertainment; they were to be represented by Interscope and Universal Music Group outside of Asia.  In November 2018, Blackpink announced additional tour dates for their \"In Your Area World Tour\", which covered thirteen dates across Asia from January to March 2019.  Jennie debuted with her single, \"Solo\", at Blackpink's Seoul concert on November 11; both the song and its official music video were released the following day.  Their first Japanese studio album, Blackpink in Your Area, was made available digitally on November 23 and physically on December 5.  The album included Japanese versions of all of their previous releases and debuted at number 9 on the Oricon Albums Chart, selling an estimated 13,000 copies in its first week.  Blackpink made their American debut at the Universal Music Group's 2019 Grammy Artist Showcase, an invite-only event at the ROW in Downtown Los Angeles on February 9, 2019.  The group appeared on several American television shows following their debut performance, including The Late Show with Stephen Colbert and Good Morning America.  In March of the same year, they became the first-ever K-pop girl group to cover Billboard magazine.  Blackpink's third extended play, Kill This Love, led by a single of the same name, was released on April 5, 2019.  Kill This Love debuted at number 24 on the Billboard 200, while the lead single reached number 41 on the Hot 100, becoming the highest-charting releases by a female Korean act on the two major Billboard charts.  \"Kill This Love\" ranked at number 66 on Billboard's list of the 100 Best Songs of 2019.  The song \"Forever Young\", released as a B-side from the EP Square Up (2018), surpassed 2. 5 million downloads in December 2019, making it the group's fifth song overall and their second to achieve a platinum certification for downloads from the Korea Music Content Association (KMCA), after \"Ddu-Du Ddu-Du\".  Blackpink performed at the 2019 Coachella Festival on April 12 and 19, 2019, making them the first female K-pop group to do so.  The group's Coachella set was well-received by both critics and fans alike, with Gab Ginsberg of Billboard calling the show \"electrifying\" and \"unforgettable\".  On October 16, 2019, a Japanese version of Kill This Love was released to the Japanese market, peaking at number 17 on the Oricon Albums Chart.  The group embarked to Japan for a variety of promotional activities, including appearances on Japanese music television programs TV Asahi's Music Station and Fuji TV's Love Music.  On April 22, it was confirmed the group would be collaborated with Lady Gaga for her sixth studio album, Chromatica, on the track titled \"Sour Candy\", which was released as a promotional single on May 28, 2020.  On the Billboard Hot 100 chart, the song debuted at number 33, giving Gaga her 25th top 40 hit and Blackpink their first, becoming the group's highest-charting song in the United States to date as well as the highest-charting song by a K-pop girl group.  In Australia, the song debuted at number 8, becoming Blackpink's highest-charting hit in the country.  It also became their first top-twenty single in the United Kingdom, debuting at number 17.  On May 18, YG Entertainment announced the group would release a pre-release single in June, followed by an additional single release between July and August, to promote their first Korean full-length album in September.  On June 2, YG Entertainment confirmed that following the release of the group's first full-length album, members Rosé, Lisa, and Jisoo will release their individual projects, with Rosé's solo album releasing first.  Their single \"How You Like That\" was heavily teased on social media leading up to its digital release on June 26.  The song debuted at number 12 on the Gaon Digital Chart with just one day and 16 hours of tracking and peaked at number one on the Gaon digital, download, and streaming charts on its second week.  \"How You Like That\" became Blackpink's fifth song to chart on the Billboard Hot 100 (peaking at no.  33) and its music video broke five Guinness World Records.  In the midst of the group's comeback preparations, YG Entertainment released a prologue of Blackpink's newest reality show, 24/365 with Blackpink, on June 13, ahead of its launch on YouTube.  The show documents their 2020 comebacks alongside sharing their daily lives through vlogs.   On July 23, YG Entertainment announced that a new single, \"Ice Cream\", with American singer Selena Gomez, would be released on August 28.  \"Ice Cream\" debuted and peaked at number 13 on the Billboard Hot 100.  On July 28, the band announced their first Korean studio album, The Album, would be released on October 2, 2020.  On August 30, 2020, Blackpink became the first K-pop girl group to win at the MTV Video Music Awards, winning the Song of Summer for \"How You Like That. \" On September 8, Netflix and Blackpink announced that BLACKPINK: Light Up The Sky will premiere on October 14 as an all-access documentary, covering the four years since Blackpink's explosive debut in 2016 with video footage from their days training to look at their home life, behind-the-scenes stories and honest interviews with the members.  Since their debut, Blackpink have emerged as a prominent act in K-pop and have been described as the \"biggest girl group on the planet\", \"biggest K-pop girl band on the planet\", and \"K-pop Queens\".  They have gained immense popularity in South Korea, with Forbes Korea Power Celebrity named Blackpink the most influential celebrities in South Korea in 2019 and the third most influential celebrities in 2020.  Multiple international media outlets, such as Forbes, Billboard and The Hollywood Reporter, have recognized the group's popularity and their contribution in spreading the Korean Wave around the world.  Blackpink were cited by Rolling Stone as the one exception to the stereotype that most K-pop acts that have attained large-scale success in the United States are boy groups.  The group were also credited as one of the two acts leading the Korean music industry growth by the International Federation of the Phonographic Industry (IFPI).  Blackpink have appeared in multiple power listings and were the first girl group to be included in Forbes' 30 Under 30 Asia.  They were also included in the 2019 Time 100 Next list of rising stars who are shaping the future of various fields worldwide, credited with \"heralding a new era of Korean acts stepping past language barriers to play global stages\" when they became the first K-pop girl group to perform at Coachella.  Blackpink have amassed a large following on social media and streaming platforms.  They became the most-subscribed music group on YouTube in September 2019 and, as of September 2020, are the third most-subscribed music act and the most subscribed female artists, with over 47 million subscribers.  Blackpink's members are also the most-followed Korea-related individuals on Instagram, with the first, second, third and fourth most-followed being Lisa, Jennie, Rosé and Jisoo, respectively.  Blackpink became the most-followed girl group on Spotify in November 2019; as of September 2020, their profile has accumulated over 14. 3 million followers.  Blackpink's influence beyond music, especially in South Korea, extends to fashion.  Each member has served as global ambassadors for different luxury brands: Jennie for Chanel, Rosé for Saint Laurent, Jisoo for Dior, and Lisa for Celine and Bulgari.  Additionally, Blackpink have been credited for drawing international attention to South Korea's traditional costume hanbok through their stylish, modern re-interpretations of the costume in their \"How You Like That\" music video and stage performances.  Blackpink have acquired numerous endorsement deals in various industries throughout their career.  Globally, Blackpink were global ambassadors for Kia Motors, in which the automobile manufacturer also served as title sponsor for the group's In Your Area World Tour, seeking to establish a closer connection to the younger generation.  In North America, Blackpink formed a partnership with toy company Jazwares to create a collection of dolls styled in outfits from their music videos.  In June 2020, Blackpink collaborated with ZEPETO, a South Korean 3D avatar service operated by Naver Z, to offer fans with characters that correspond with each member and allow fans to see the characters sing and dance, as well as take pictures together on the app.  Blackpink's virtual fan-sign event on the app gained explosive popularity among global fans, with the event surpassing 30 million participants as of September 11, 2020 and the number of new users increasing by 300 thousands following the release of \"Ice Cream\" dance performance video.  In Asia, Blackpink endorsed Samsung, working on multiple campaigns for its electronics products such as the #danceAwesome challenge to promote Galaxy A.  In August 2019, Samsung launched a BLACKPINK Special Edition set in Southeast Asia, comprising its Galaxy A80, Galaxy Watch, and Galaxy Buds.  The group featured Galaxy S10+ and Galaxy Buds in their \"Kill This Love\" music video.  In November 2018, Blackpink became the first-ever regional brand ambassadors for a Singaporean e-commerce platform, Shopee, as part of its partnership with YG Group in Southeast Asia and Taiwan.  Thai bank KBank began its partnership with Blackpink to broaden its reach among new generation customers in November 2019.  In September 2020, Blackpink became spokesperson for Pepsi in Asia-Pacific, which specifically includes Greater China, Philippines, Thailand and Vietnam.  In South Korea, Blackpink have been brand ambassadors or spoke-models of: sportswear brand Adidas, luxury hotel and resort Paradise City, contact lens brand Olens, and hair-care brand Mise-En-Scène.  In July 2018 and August 2020, the group ranked first among all singers in brand reputation based on analyses by The Korea Reputation Research Institute, making them the only female act to do so.  In May 2017, Blackpink became ambassadors for Incheon Main Customs.  In April 2018, Blackpink signed a contract to advertise beverage brand Sprite Korea.  In January 2019, the group became the face of Woori Bank,  in which the bank seeking to expand its outreach to young and global consumer market with Blackpink.  The group also endorsed and collaborated with several other high-end brands including sportswear brands Puma and Reebok, luxury fashion houses Louis Vuitton and Dior Cosmetics, cosmetics brand Moonshot, handbag brand St.  Scott London, and department store Shibuya 109.  Blackpink also entered in a collaboration with Tokyo Girls Collection x CECIL McBEE to release merchandise in Japan.  In December 2018, Blackpink donated their prize money from the Elle Style Awards 2018 worth ₩20 million (around $16,630) to low-income, single-parent households in South Korea.  In April 2019, Blackpink made a donation of ₩40 million (around $33,300) to the Hope Bridge Association of the National Disaster Relief for the victims of the Goseong wildfire in South Korea.  In September 2019, member Lisa donated ฿100,000 (around $3,200) to help the victims of monsoon floods in her hometown Buriram, Thailand.  In April 2020, Blackpink released face masks via UMG-affiliated merchandising company Bravado; all proceeds benefited the Recording Academy’s MusiCares initiative, which launched a relief fund in response to the COVID-19 pandemic and its impact on the music industry.  Blackpink's accolades include three People's Choice Awards, a Teen Choice Award, an MTV Video Music Award, five Gaon Chart Music Awards, four Golden Disc Awards, three Melon Music Awards, four Mnet Asian Music Awards, two Seoul Music Awards, and five Guinness World Records.  Their music video for \"Ddu-Du Ddu-Du\" became the most-watched music video by a South Korean group in January 2019 and became the first K-pop group music video to surpass one billion views in November 2019.  Following the release of \"How You Like That\" and its music video on June 26, 2020, Blackpink broke five Guinness World Records, including those for the most-viewed YouTube video in the first 24 hours of release (with 86. 3 million views) and the most viewers for a video premiere on YouTube (reaching 1. 66 million peak concurrent viewers for the live premiere).  Korean albums Japanese albums \n"
          ],
          "name": "stdout"
        }
      ]
    },
    {
      "cell_type": "markdown",
      "metadata": {
        "id": "_fMRgdBa5UIl",
        "colab_type": "text"
      },
      "source": [
        "#### 2.Lemmatization and process the data for vocabulary"
      ]
    },
    {
      "cell_type": "code",
      "metadata": {
        "id": "rRqPvF11va1M",
        "colab_type": "code",
        "colab": {
          "base_uri": "https://localhost:8080/",
          "height": 54
        },
        "outputId": "a82ab25a-6659-432b-c0b4-a605aa3060ca"
      },
      "source": [
        "tokens = word_tokenize(text)\n",
        "tags = nltk.pos_tag(tokens)\n",
        "lemmatizer = WordNetLemmatizer()\n",
        "\n",
        "words = \"\"\n",
        "for i, token in enumerate(tokens):\n",
        "  pos_tag = tags[i][1]\n",
        "  if pos_tag.startswith('N'):\n",
        "      lemma = lemmatizer.lemmatize(token, pos=NOUN)\n",
        "      words += lemma + \" \"\n",
        "  elif pos_tag.startswith('V'):\n",
        "      lemma = lemmatizer.lemmatize(token, pos=VERB)\n",
        "      words += lemma + \" \"\n",
        "  elif pos_tag.startswith('J'):\n",
        "      lemma = lemmatizer.lemmatize(token, pos=ADJ)\n",
        "      words += lemma + \" \"\n",
        "  else:\n",
        "      lemma = token\n",
        "      words += \" \"\n",
        "\n",
        "temp = []\n",
        "for t in words.split():\n",
        "  t = t.lower().translate ({ord(c): \" \" for c in \"1234567890!@#$%^&*()[]{}/<>?\\\\|`~=_+'\"\"\"}).translate(str.maketrans('', '', string.punctuation))\n",
        "  s = ' '.join(t.split())\n",
        "  if( s != ''):\n",
        "    temp.append(s)\n",
        "\n",
        "print(temp[:])"
      ],
      "execution_count": 4,
      "outputs": [
        {
          "output_type": "stream",
          "text": [
            "['blackpink', 'hangul', 'blackpink', 'stylize', 'blackpink', 'blackpink', 'be', 'south', 'korean', 'girl', 'group', 'form', 'yg', 'entertainment', 'consist', 'member', 'jisoo', 'jennie', 'rosé', 'lisa', 'group', 'debut', 'august', 'single', 'album', 'square', 'one', 'feature', 'whistle', 'boombayah', 'first', 'numberone', 'hit', 'south', 'korea', 'gaon', 'digital', 'chart', 'billboard', 'world', 'digital', 'song', 'sales', 'chart', 'blackpink', 'be', 'highestcharting', 'female', 'korean', 'act', 'billboard', 'hot', 'peak', 'number', 'single', 'ice', 'cream', 'billboard', 'peak', 'number', 'kill', 'love', 'be', 'first', 'korean', 'girl', 'group', 'enter', 'top', 'billboard', 'emerging', 'artists', 'chart', 'top', 'billboard', 'world', 'digital', 'song', 'sales', 'chart', 'time', 'blackpink', 'be', 'first', 'female', 'korean', 'act', 'receive', 'certification', 'recording', 'industry', 'association', 'america', 'riaa', 'hit', 'single', 'ddudu', 'ddudu', 'have', 'mostviewed', 'music', 'video', 'korean', 'group', 'youtube', 'have', 'top', 'hit', 'united', 'kingdom', 'korean', 'artist', 'single', 'kiss', 'make', 'up', 'be', 'firstever', 'song', 'korean', 'group', 'receive', 'certification', 'british', 'phonographic', 'industry', 'bpi', 'be', 'certify', 'platinum', 'australian', 'recording', 'industry', 'association', 'aria', 'single', 'be', 'firstever', 'song', 'korean', 'act', 'receive', 'certification', 'promúsica', 'brasil', 'blackpink', 'have', 'break', 'numerous', 'online', 'record', 'career', 'music', 'video', 'kill', 'love', 'set', 'record', 'mostviewed', 'music', 'video', 'first', 'hour', 'release', 'latter', 'break', 'set', 'guinness', 'world', 'records', 'be', 'first', 'korean', 'group', 'have', 'music', 'video', 'least', 'view', 'youtube', 'become', 'fast', 'korean', 'single', 'reach', 'double', 'platinum', 'qq', 'music', 'china', 'big', 'music', 'stream', 'platform', 'blackpink', 'other', 'accolade', 'include', 'new', 'artist', 'year', 'awards', 'golden', 'disc', 'awards', 'seoul', 'music', 'awards', 'recognition', 'powerful', 'celebrity', 'south', 'korea', 'forbes', 'korea', 'first', 'female', 'korean', 'group', 'forbes', 'asia', 'be', 'first', 'kpop', 'girl', 'group', 'win', 'mtv', 'music', 'video', 'award', 'be', 'mostfollowed', 'girl', 'group', 'spotify', 'mostsubscribed', 'music', 'group', 'female', 'act', 'asian', 'act', 'youtube', 'blackpink', 'begin', 'form', 'yg', 'entertainment', 'hold', 'tryout', 'worldwide', 'preteen', 'teenage', 'recruit', 'create', 'new', 'girl', 'group', 'launch', 'first', 'girl', 'group', 'according', 'member', 'join', 'label', 'trainee', 'be', 'similar', 'enrol', 'fulltime', 'popstar', 'academy', 'jennie', 'call', 'strict', 'school', 'rosé', 'compare', 'x', 'factor', 'dorm', 'room', 'member', 'have', 'leave', 'life', 'south', 'korea', 'pace', 'training', 'culture', 'shock', 'be', 'tough', 'preparations', 'blackpink', 'debut', 'begin', 'yg', 'entertainment', 'reveal', 'november', 'label', 'new', 'girl', 'group', 'debut', 'early', 'half', 'feature', 'least', 'member', 'be', 'numerous', 'news', 'rumor', 'surround', 'new', 'girl', 'group', 'debut', 'be', 'delay', 'be', 'official', 'information', 'be', 'may', 'yg', 'entertainment', 'confirm', 'new', 'girl', 'group', 'state', 'member', 'be', 'select', 'year', 'stiff', 'competition', 'confirming', 'debut', 'be', 'july', 'label', 'confirm', 'jang', 'hanna', 'moon', 'sua', 'be', 'introduce', 'public', 'potential', 'member', 'new', 'girl', 'group', 'be', 'include', 'debut', 'lineup', 'jennie', 'be', 'first', 'member', 'reveal', 'be', 'group', 'june', 'jennie', 'join', 'yg', 'entertainment', 'trainee', 'move', 'south', 'korea', 'new', 'zealand', 'be', 'introduce', 'public', 'first', 'time', 'photo', 'title', 's', 'girl', 'official', 'blog', 'yg', 'entertainment', 'april', 'jennie', 'continue', 'be', 'promote', 'member', 'new', 'girl', 'group', 'multiple', 'collaboration', 'such', 'star', 'gdragon', 'music', 'video', 'xx', 'kind', 'ep', 'feature', 'gdragon', 'black', 'album', 'coup', 'd etat', 'lee', 'hi', 'special', 'album', 'first', 'love', 'lisa', 'be', 'reveal', 'be', 'second', 'member', 'june', 'lisa', 'be', 'only', 'individual', 'applicant', 'pass', 'yg', 'entertainment', 'audition', 'native', 'thailand', 'become', 'first', 'foreign', 'trainee', 'join', 'label', 'be', 'introduce', 'video', 'be', 'post', 'yg', 'entertainment', 'official', 'youtube', 'channel', 'title', 's', 'girl', 'lisa', 'appear', 'music', 'video', 'taeyang', 'ringa', 'linga', 'take', 'model', 'job', 'streetwear', 'brand', 'nona on', 'follow', 'model', 'cosmetic', 'brand', 'moonshot', 'june', 'jisoo', 'be', 'reveal', 'be', 'third', 'member', 'jisoo', 'join', 'yg', 'entertainment', 'trainee', 'july', 'appear', 'several', 'advertisement', 'music', 'video', 'predebut', 'year', 'include', 'spoiler', 'happy', 'ending', 'epik', 'high', 'studio', 'album', 'shoebox', 'hi', 'suhyun', 'music', 'video', 'm', 'different', 'make', 'cameo', 'appearance', 'drama', 'producers', 'rosé', 'be', 'reveal', 'be', 'member', 'june', 'rank', 'first', 'applicant', 'yg', 'entertainment', 'audition', 'australia', 'result', 'trainee', 'contract', 'label', 'move', 'seoul', 'begin', 'training', 'be', 'feature', 'gdragon', 'track', 'kind', 'ep', 'yg', 'new', 'girl', 'group', 'feature', 'vocal', 'identity', 'be', 'keep', 'secret', 'year', 'official', 'public', 'introduction', 'be', 'reveal', 'participate', 'song', 'june', 'yg', 'entertainment', 'confirm', 'new', 'girl', 'group', 'include', 'member', 'original', 'plan', 'have', 'member', 'reveal', 'blackpink', 'group', 'official', 'name', 'according', 'representative', 'blackpink', 'mean', 'be', 'everything', 'symbolize', 'be', 'team', 'encompass', 'beauty', 'great', 'talent', 'jisoo', 'disclose', 'press', 'conference', 'debut', 'pink', 'punk', 'monster', 'blackpink', 'release', 'first', 'dance', 'practice', 'video', 'july', 'great', 'attention', 'viewer', 'july', 'yg', 'entertainment', 'confirm', 'blackpink', 'debut', 'be', 'august', 'promotions', 'debut', 'begin', 'first', 'week', 'august', 'release', 'teaser', 'image', 'video', 'advertisement', 'first', 'girl', 'group', 'debut', 'yg', 'entertainment', 'year', 'blackpink', 'release', 'debut', 'single', 'album', 'square', 'one', 'august', 'consist', 'track', 'boombayah', 'whistle', 'chart', 'number', 'billboard', 'world', 'digital', 'song', 'sales', 'chart', 'make', 'blackpink', 'fast', 'act', 'achieve', 'such', 'feat', 'third', 'korean', 'artist', 'hold', 'top', 'position', 'label', 'mate', 'psy', 'big', 'bang', 'whistle', 'top', 'digital', 'download', 'streaming', 'mobile', 'chart', 'gaon', 'group', 'reach', 'number', 'weekly', 'popularity', 'music', 'video', 'kpop', 'music', 'video', 'chart', 'china', 'big', 'musicstreaming', 'service', 'qq', 'music', 'blackpink', 'first', 'music', 'show', 'performance', 'be', 'air', 'august', 'sbs', 'inkigayo', 'win', 'first', 'place', 'inkigayo', 'day', 'debut', 'break', 'record', 'short', 'time', 'girl', 'group', 'win', 'music', 'program', 'debut', 'wrap', 'promotion', 'square', 'one', 'september', 'win', 'inkigayo', 'blackpink', 'release', 'second', 'single', 'album', 'square', 'consist', 'track', 'playing', 'fire', 'stay', 'november', 'group', 'begin', 'promotion', 'inkigayo', 'november', 'mnet', 'm', 'countdown', 'november', 'playing', 'fire', 'be', 'blackpink', 'second', 'single', 'reach', 'number', 'billboard', 'world', 'digital', 'song', 'sales', 'chart', 'first', 'kpop', 'girl', 'group', 'song', 'chart', 'canadian', 'hot', 'south', 'korea', 'playing', 'fire', 'peak', 'number', 'stay', 'place', 'top', 'ten', 'blackpink', 'commercial', 'success', 'first', 'month', 'earn', 'several', 'rookie', 'award', 'major', 'korean', 'yearend', 'music', 'award', 'show', 'include', 'asia', 'artist', 'awards', 'melon', 'music', 'awards', 'golden', 'disc', 'awards', 'seoul', 'music', 'awards', 'gaon', 'chart', 'music', 'awards', 'billboard', 'name', 'best', 'new', 'kpop', 'group', 'january', 'blackpink', 'reveal', 'name', 'fan', 'club—', 'blink', 'portmanteau', 'black', 'pink', 'june', 'group', 'release', 'first', 'standalone', 'digital', 'single', 's', 'your', 'last', 'be', 'describe', 'mixed', 'genre', 'music', 'change', 'sound', 'previous', 'release', 'song', 'debut', 'number', 'billboard', 'world', 'digital', 'song', 'sales', 'chart', 'day', 'release', 'make', 'third', 'numberone', 'hit', 'chart', 'music', 'video', 'song', 'go', 'break', 'record', 'mostliked', 'music', 'video', 'korean', 'girl', 'group', 'youtube', 'mostviewed', 'kpop', 'group', 'music', 'video', 'first', 'hour', 'release', 'july', 'blackpink', 'hold', 'showcase', 'nippon', 'budokan', 'tokyo', 'be', 'attend', 'more', 'people', 'many', 'people', 'attempt', 'purchase', 'ticket', 'group', 'make', 'japanese', 'debut', 'august', 'release', 'selftitled', 'japanese', 'extend', 'play', 'include', 'japanese', 'version', 'previous', 'single', 'ep', 'debut', 'peak', 'top', 'oricon', 'albums', 'chart', 'blackpink', 'rank', 'youtube', 'global', 'top', 'songs', 'summer', 's', 'your', 'last', 'january', 'blackpink', 'release', 'first', 'episode', 'first', 'reality', 'show', 'blackpink', 'house', 'be', 'comprise', 'episode', 'release', 'follow', 'member', 'spend', 'day', 'vacation', 'move', 'new', 'dorm', 'official', 'v', 'live', 'youtube', 'channel', 'march', 'blackpink', 'rereleased', 'debut', 'japanese', 'ep', 'name', 're', 'blackpink', 'digital', 'version', 'include', 'same', 'song', 'original', 'release', 'physical', 'version', 'include', 'dvd', 'contain', 'music', 'video', 'song', 'korean', 'language', 'june', 'group', 'release', 'first', 'koreanlanguage', 'ep', 'title', 'square', 'up', 'lead', 'single', 'ddudu', 'ddudu', 'debut', 'number', 'official', 'trending', 'chart', 'united', 'kingdom', 'make', 'first', 'female', 'kpop', 'group', 'enter', 'chart', 'launch', 'single', 'debut', 'number', 'billboard', 'hot', 'u', 's', 'stream', 'downloads', 'track', 'week', 'end', 'june', 'make', 'blackpink', 'highestcharting', 'korean', 'girl', 'group', 'chart', 'single', 'debut', 'number', 'u', 's', 'streaming', 'songs', 'chart', 'make', 'blackpink', 'become', 'first', 'kpop', 'girl', 'group', 'enter', 'chart', 'square', 'up', 'bring', 'group', 'first', 'entry', 'highestcharting', 'album', 'allfemale', 'kpop', 'group', 'time', 'release', 'billboard', 'debut', 'number', 'equivalent', 'unit', 'ep', 'top', 'billboard', 'world', 'albums', 'chart', 'south', 'korea', 'square', 'up', 'debut', 'number', 'gaon', 'albums', 'chart', 'ddudu', 'ddudu', 'peak', 'number', 'digital', 'download', 'streaming', 'mobile', 'chart', 'gaon', 'second', 'week', 'forever', 'young', 'peak', 'number', 'youtube', 'official', 'saw', 'music', 'video', 'ddudu', 'ddudu', 'garner', 'total', 'view', 'hour', 'release', 'make', 'mostviewed', 'online', 'video', 'first', 'hour', 'korean', 'act', 'second', 'mostwatched', 'music', 'video', 'time', 'first', 'hour', 'release', 'time', 'blackpink', 'embark', 'soldout', 'japan', 'tour', 'blackpink', 'arena', 'tour', 'osaka', 'july', 'promote', 'japanese', 'ep', 'tour', 'be', 'compose', 'show', 'osaka', 'fukuoka', 'chiba', 'additional', 'show', 'chiba', 'be', 'add', 'due', 'overwhelming', 'demand', 'final', 'stop', 'tour', 'be', 'add', 'december', 'kyocera', 'dome', 'osaka', 'christmas', 'gift', 'fan', 'perform', 'soldout', 'crowd', 'september', 'be', 'announce', 'group', 'hold', 'first', 'concert', 'seoul', 'title', 'blackpink', 'tour', 'seoul', 'x', 'bc', 'card', 'olympic', 'gymnastics', 'arena', 'concert', 'lead', 'your', 'area', 'world', 'tour', 'continue', 'early', 'north', 'america', 'europe', 'oceania', 'asia', 'tour', 'become', 'highestgrossing', 'tour', 'korean', 'girl', 'group', 'end', 'run', 'october', 'english', 'singer', 'dua', 'lipa', 'release', 'kiss', 'make', 'up', 'blackpink', 'new', 'track', 'rereleased', 'edition', 'selftitled', 'debut', 'album', 'kiss', 'make', 'up', 'debut', 'number', 'billboard', 'hot', 'mark', 'blackpink', 'second', 'entry', 'chart', 'make', 'only', 'korean', 'girl', 'group', 'score', 'least', 'entry', 'chart', 'song', 'become', 'second', 'entry', 'uk', 'singles', 'chart', 'peak', 'number', 'first', 'top', 'entry', 'be', 'first', 'female', 'korean', 'group', 'third', 'korean', 'act', 'overall', 'reach', 'top', 'october', 'group', 'sign', 'interscope', 'records', 'global', 'partnership', 'yg', 'entertainment', 'be', 'be', 'represent', 'interscope', 'universal', 'music', 'group', 'asia', 'november', 'blackpink', 'announce', 'additional', 'tour', 'date', 'your', 'area', 'world', 'tour', 'cover', 'thirteen', 'date', 'asia', 'january', 'march', 'jennie', 'debut', 'single', 'solo', 'blackpink', 'seoul', 'concert', 'november', 'song', 'official', 'music', 'video', 'be', 'release', 'following', 'day', 'first', 'japanese', 'studio', 'album', 'blackpink', 'your', 'area', 'be', 'make', 'available', 'november', 'december', 'album', 'include', 'japanese', 'version', 'previous', 'release', 'debut', 'number', 'oricon', 'albums', 'chart', 'sell', 'estimate', 'copy', 'first', 'week', 'blackpink', 'make', 'american', 'debut', 'universal', 'music', 'group', 'grammy', 'artist', 'showcase', 'inviteonly', 'event', 'row', 'downtown', 'los', 'angeles', 'february', 'group', 'appear', 'several', 'american', 'television', 'show', 'follow', 'debut', 'performance', 'include', 'late', 'show', 'stephen', 'colbert', 'good', 'morning', 'america', 'march', 'same', 'year', 'become', 'firstever', 'kpop', 'girl', 'group', 'cover', 'billboard', 'magazine', 'blackpink', 'third', 'extend', 'play', 'kill', 'love', 'lead', 'single', 'same', 'name', 'be', 'release', 'april', 'kill', 'love', 'debut', 'number', 'billboard', 'lead', 'single', 'reach', 'number', 'hot', 'become', 'highestcharting', 'release', 'female', 'korean', 'act', 'major', 'billboard', 'chart', 'kill', 'love', 'rank', 'number', 'billboard', 'list', 'best', 'songs', 'song', 'forever', 'young', 'release', 'bside', 'ep', 'square', 'up', 'surpass', 'downloads', 'december', 'make', 'group', 'fifth', 'song', 'overall', 'second', 'achieve', 'platinum', 'certification', 'downloads', 'korea', 'music', 'content', 'association', 'kmca', 'ddudu', 'ddudu', 'blackpink', 'perform', 'coachella', 'festival', 'april', 'make', 'first', 'female', 'kpop', 'group', 'do', 'group', 'coachella', 'set', 'be', 'wellreceived', 'critic', 'fan', 'gab', 'ginsberg', 'billboard', 'call', 'show', 'electrifying', 'unforgettable', 'october', 'japanese', 'version', 'kill', 'love', 'be', 'release', 'japanese', 'market', 'peak', 'number', 'oricon', 'albums', 'chart', 'group', 'embark', 'japan', 'variety', 'promotional', 'activity', 'include', 'appearance', 'japanese', 'music', 'television', 'program', 'tv', 'asahi', 'music', 'station', 'fuji', 'tv', 'love', 'music', 'april', 'be', 'confirm', 'group', 'be', 'collaborate', 'lady', 'gaga', 'sixth', 'studio', 'album', 'chromatica', 'track', 'title', 'sour', 'candy', 'be', 'release', 'promotional', 'single', 'may', 'billboard', 'hot', 'chart', 'song', 'debut', 'number', 'give', 'gaga', 'top', 'hit', 'blackpink', 'first', 'become', 'group', 'highestcharting', 'song', 'united', 'states', 'date', 'highestcharting', 'song', 'kpop', 'girl', 'group', 'australia', 'song', 'debut', 'number', 'become', 'blackpink', 'highestcharting', 'hit', 'country', 'become', 'first', 'toptwenty', 'single', 'united', 'kingdom', 'debut', 'number', 'may', 'yg', 'entertainment', 'announce', 'group', 'release', 'prerelease', 'single', 'june', 'follow', 'additional', 'single', 'release', 'july', 'august', 'promote', 'first', 'korean', 'fulllength', 'album', 'september', 'june', 'yg', 'entertainment', 'confirm', 'follow', 'release', 'group', 'first', 'fulllength', 'album', 'member', 'rosé', 'lisa', 'jisoo', 'release', 'individual', 'project', 'rosé', 'solo', 'album', 'release', 'single', 'be', 'tease', 'social', 'medium', 'lead', 'digital', 'release', 'june', 'song', 'debut', 'number', 'gaon', 'digital', 'chart', 'day', 'hour', 'track', 'peak', 'number', 'gaon', 'digital', 'download', 'stream', 'chart', 'second', 'week', 'become', 'blackpink', 'fifth', 'song', 'chart', 'billboard', 'hot', 'peak', 'music', 'video', 'break', 'guinness', 'world', 'records', 'midst', 'group', 'comeback', 'preparation', 'yg', 'entertainment', 'release', 'prologue', 'blackpink', 'new', 'reality', 'show', 'blackpink', 'june', 'launch', 'youtube', 'show', 'document', 'comeback', 'share', 'daily', 'life', 'vlogs', 'july', 'yg', 'entertainment', 'announce', 'new', 'single', 'ice', 'cream', 'american', 'singer', 'selena', 'gomez', 'be', 'release', 'august', 'ice', 'cream', 'debut', 'peak', 'number', 'billboard', 'hot', 'july', 'band', 'announce', 'first', 'korean', 'studio', 'album', 'album', 'be', 'release', 'october', 'august', 'blackpink', 'become', 'first', 'kpop', 'girl', 'group', 'win', 'mtv', 'video', 'music', 'awards', 'win', 'song', 'summer', 'how', 'that', 'september', 'netflix', 'blackpink', 'announce', 'blackpink', 'light', 'sky', 'premiere', 'october', 'allaccess', 'documentary', 'cover', 'year', 'blackpink', 'explosive', 'debut', 'video', 'footage', 'day', 'train', 'look', 'home', 'life', 'behindthescenes', 'story', 'honest', 'interview', 'member', 'debut', 'blackpink', 'have', 'emerge', 'prominent', 'act', 'kpop', 'have', 'be', 'describe', 'big', 'girl', 'group', 'planet', 'big', 'kpop', 'girl', 'band', 'planet', 'kpop', 'queens', 'have', 'gain', 'immense', 'popularity', 'south', 'korea', 'forbes', 'korea', 'power', 'celebrity', 'name', 'blackpink', 'influential', 'celebrity', 'south', 'korea', 'third', 'influential', 'celebrity', 'multiple', 'international', 'medium', 'outlet', 'such', 'forbes', 'billboard', 'hollywood', 'reporter', 'have', 'recognize', 'group', 'popularity', 'contribution', 'spread', 'korean', 'wave', 'world', 'blackpink', 'be', 'cite', 'rolling', 'stone', 'exception', 'stereotype', 'most', 'kpop', 'act', 'have', 'attain', 'largescale', 'success', 'united', 'states', 'be', 'boy', 'group', 'group', 'be', 'credit', 'act', 'lead', 'korean', 'music', 'industry', 'growth', 'international', 'federation', 'phonographic', 'industry', 'ifpi', 'blackpink', 'have', 'appear', 'multiple', 'power', 'listing', 'be', 'first', 'girl', 'group', 'be', 'include', 'forbes', 'asia', 'be', 'include', 'time', 'next', 'list', 'rise', 'star', 'be', 'shape', 'future', 'various', 'field', 'credit', 'herald', 'new', 'era', 'korean', 'act', 'step', 'past', 'language', 'barrier', 'play', 'global', 'stage', 'become', 'first', 'kpop', 'girl', 'group', 'perform', 'coachella', 'blackpink', 'have', 'amass', 'large', 'follow', 'social', 'medium', 'stream', 'platform', 'become', 'mostsubscribed', 'music', 'group', 'youtube', 'september', 'september', 'be', 'third', 'mostsubscribed', 'music', 'act', 'subscribed', 'female', 'artist', 'subscriber', 'blackpink', 'member', 'be', 'mostfollowed', 'korearelated', 'individual', 'instagram', 'first', 'second', 'third', 'fourth', 'mostfollowed', 'be', 'lisa', 'jennie', 'rosé', 'jisoo', 'blackpink', 'become', 'mostfollowed', 'girl', 'group', 'spotify', 'november', 'september', 'profile', 'have', 'accumulate', 'follower', 'blackpink', 'influence', 'music', 'south', 'korea', 'extend', 'fashion', 'member', 'have', 'serve', 'global', 'ambassador', 'different', 'luxury', 'brand', 'jennie', 'chanel', 'rosé', 'saint', 'laurent', 'jisoo', 'dior', 'lisa', 'celine', 'bulgari', 'blackpink', 'have', 'be', 'credit', 'draw', 'international', 'attention', 'south', 'korea', 'traditional', 'costume', 'hanbok', 'stylish', 'modern', 'reinterpretations', 'costume', 'music', 'video', 'stage', 'performance', 'blackpink', 'have', 'acquire', 'numerous', 'endorsement', 'deal', 'various', 'industry', 'career', 'globally', 'blackpink', 'be', 'global', 'ambassador', 'kia', 'motors', 'automobile', 'manufacturer', 'serve', 'title', 'sponsor', 'group', 'your', 'area', 'world', 'tour', 'seek', 'establish', 'close', 'connection', 'young', 'generation', 'north', 'america', 'blackpink', 'form', 'partnership', 'toy', 'company', 'jazwares', 'create', 'collection', 'doll', 'style', 'outfit', 'music', 'video', 'june', 'blackpink', 'collaborate', 'zepeto', 'south', 'korean', 'avatar', 'service', 'operate', 'naver', 'z', 'offer', 'fan', 'character', 'correspond', 'member', 'allow', 'fan', 'see', 'character', 'sing', 'dance', 'take', 'picture', 'app', 'blackpink', 'virtual', 'fansign', 'event', 'app', 'gain', 'explosive', 'popularity', 'global', 'fan', 'event', 'surpass', 'participant', 'september', 'number', 'new', 'user', 'increase', 'thousand', 'follow', 'release', 'ice', 'cream', 'dance', 'performance', 'video', 'asia', 'blackpink', 'endorse', 'samsung', 'work', 'multiple', 'campaign', 'electronics', 'product', 'such', 'danceawesome', 'challenge', 'promote', 'galaxy', 'a', 'august', 'samsung', 'launch', 'blackpink', 'special', 'edition', 'set', 'southeast', 'asia', 'comprise', 'galaxy', 'a', 'galaxy', 'watch', 'galaxy', 'buds', 'group', 'feature', 'galaxy', 's', 'galaxy', 'buds', 'kill', 'love', 'music', 'video', 'november', 'blackpink', 'become', 'firstever', 'regional', 'brand', 'ambassador', 'singaporean', 'ecommerce', 'platform', 'shopee', 'part', 'partnership', 'yg', 'group', 'southeast', 'asia', 'taiwan', 'thai', 'bank', 'kbank', 'begin', 'partnership', 'blackpink', 'broaden', 'reach', 'new', 'generation', 'customer', 'november', 'september', 'blackpink', 'become', 'spokesperson', 'pepsi', 'asiapacific', 'include', 'greater', 'china', 'philippines', 'thailand', 'vietnam', 'south', 'korea', 'blackpink', 'have', 'be', 'brand', 'ambassador', 'spokemodels', 'sportswear', 'brand', 'adidas', 'luxury', 'hotel', 'resort', 'paradise', 'city', 'contact', 'lens', 'brand', 'olens', 'haircare', 'brand', 'miseenscène', 'july', 'august', 'group', 'rank', 'singer', 'brand', 'reputation', 'base', 'analysis', 'korea', 'reputation', 'research', 'institute', 'make', 'only', 'female', 'act', 'do', 'may', 'blackpink', 'become', 'ambassador', 'incheon', 'main', 'customs', 'april', 'blackpink', 'sign', 'contract', 'advertise', 'beverage', 'brand', 'sprite', 'korea', 'january', 'group', 'become', 'face', 'woori', 'bank', 'bank', 'seek', 'expand', 'outreach', 'young', 'global', 'consumer', 'market', 'blackpink', 'group', 'endorse', 'collaborate', 'several', 'other', 'highend', 'brand', 'include', 'sportswear', 'brand', 'puma', 'reebok', 'luxury', 'fashion', 'house', 'louis', 'vuitton', 'dior', 'cosmetics', 'cosmetic', 'brand', 'moonshot', 'handbag', 'brand', 'st', 'scott', 'london', 'department', 'store', 'shibuya', 'blackpink', 'enter', 'collaboration', 'tokyo', 'girls', 'collection', 'x', 'cecil', 'mcbee', 'release', 'merchandise', 'japan', 'december', 'blackpink', 'donate', 'prize', 'money', 'elle', 'style', 'awards', 'worth', 'lowincome', 'singleparent', 'household', 'south', 'korea', 'april', 'blackpink', 'make', 'donation', '₩', 'hope', 'bridge', 'association', 'national', 'disaster', 'relief', 'victim', 'goseong', 'wildfire', 'south', 'korea', 'september', 'member', 'lisa', 'donate', 'help', 'victim', 'monsoon', 'flood', 'hometown', 'buriram', 'thailand', 'april', 'blackpink', 'release', 'face', 'mask', 'umgaffiliated', 'merchandising', 'company', 'bravado', 'proceeds', 'benefit', 'recording', 'academy', '’', 's', 'musicares', 'initiative', 'launch', 'relief', 'fund', 'response', 'covid', 'pandemic', 'impact', 'music', 'industry', 'blackpink', 'accolade', 'include', 'people', 'choice', 'awards', 'teen', 'choice', 'award', 'mtv', 'video', 'music', 'award', 'gaon', 'chart', 'music', 'awards', 'golden', 'disc', 'awards', 'melon', 'music', 'awards', 'mnet', 'asian', 'music', 'awards', 'seoul', 'music', 'awards', 'guinness', 'world', 'records', 'music', 'video', 'ddudu', 'ddudu', 'become', 'mostwatched', 'music', 'video', 'south', 'korean', 'group', 'january', 'become', 'first', 'kpop', 'group', 'music', 'video', 'surpass', 'view', 'november', 'following', 'release', 'how', 'music', 'video', 'june', 'blackpink', 'break', 'guinness', 'world', 'records', 'include', 'mostviewed', 'youtube', 'video', 'first', 'hour', 'release', 'view', 'viewer', 'video', 'premiere', 'youtube', 'reach', 'peak', 'concurrent', 'viewer', 'live', 'premiere', 'korean', 'japanese', 'album']\n"
          ],
          "name": "stdout"
        }
      ]
    },
    {
      "cell_type": "markdown",
      "metadata": {
        "id": "5g9eR-9y5s89",
        "colab_type": "text"
      },
      "source": [
        "#### 3. Cleaning stop words"
      ]
    },
    {
      "cell_type": "code",
      "metadata": {
        "id": "8wacX1fllCjP",
        "colab_type": "code",
        "colab": {}
      },
      "source": [
        "clean_token =temp[:]\n",
        "#define irrelevant words that include stop words , punctuations and numbers\n",
        "stopword = set(stopwords.words('english') + list(punctuation) + list(\"0123456789\") )\n",
        "for token in temp:\n",
        "    if token in stopword:\n",
        "        clean_token.remove(token)\n",
        "\n",
        "for i in clean_token:\n",
        "  if i == \"be\":\n",
        "    print(i)"
      ],
      "execution_count": 5,
      "outputs": []
    },
    {
      "cell_type": "markdown",
      "metadata": {
        "id": "4Ugkkg8o5yp1",
        "colab_type": "text"
      },
      "source": [
        "### Bag of words "
      ]
    },
    {
      "cell_type": "markdown",
      "metadata": {
        "id": "M6Kwq4xt6BbV",
        "colab_type": "text"
      },
      "source": [
        "Use frequency distribution to know how the word tokens are distributed."
      ]
    },
    {
      "cell_type": "code",
      "metadata": {
        "id": "dHPSC-RRUM6c",
        "colab_type": "code",
        "colab": {
          "base_uri": "https://localhost:8080/",
          "height": 187
        },
        "outputId": "076b0314-e7c8-4767-dfbc-373180c52a8b"
      },
      "source": [
        "freq = nltk.FreqDist(clean_token)\n",
        "top_words=[]\n",
        "top_words=freq.most_common(100) # 100 most common words\n",
        "\n",
        "for i in range(10):\n",
        "  print(top_words[i])"
      ],
      "execution_count": 6,
      "outputs": [
        {
          "output_type": "stream",
          "text": [
            "('blackpink', 78)\n",
            "('group', 73)\n",
            "('music', 55)\n",
            "('first', 47)\n",
            "('release', 39)\n",
            "('debut', 36)\n",
            "('video', 36)\n",
            "('chart', 33)\n",
            "('girl', 31)\n",
            "('korean', 30)\n"
          ],
          "name": "stdout"
        }
      ]
    },
    {
      "cell_type": "markdown",
      "metadata": {
        "id": "1Nk7jrT_6Qs1",
        "colab_type": "text"
      },
      "source": [
        "Tokenize the text from the web page into sentences"
      ]
    },
    {
      "cell_type": "code",
      "metadata": {
        "id": "2W49X58jUOkY",
        "colab_type": "code",
        "colab": {
          "base_uri": "https://localhost:8080/",
          "height": 35
        },
        "outputId": "63035caa-9afe-4ec3-a99f-20629f124c23"
      },
      "source": [
        "sentences = sent_tokenize(text) \n",
        "sentences[0]"
      ],
      "execution_count": 7,
      "outputs": [
        {
          "output_type": "execute_result",
          "data": {
            "application/vnd.google.colaboratory.intrinsic+json": {
              "type": "string"
            },
            "text/plain": [
              "' Blackpink (Hangul: Blackpink; commonly stylized as BLACKPINK or Blackpink) is a South Korean girl group formed by YG Entertainment, consisting of members Jisoo, Jennie, Rosé, and Lisa.'"
            ]
          },
          "metadata": {
            "tags": []
          },
          "execution_count": 7
        }
      ]
    },
    {
      "cell_type": "markdown",
      "metadata": {
        "id": "tDNLPx6q6d-F",
        "colab_type": "text"
      },
      "source": [
        "Creating ranking for each sentence"
      ]
    },
    {
      "cell_type": "code",
      "metadata": {
        "id": "z60BeDseUbVb",
        "colab_type": "code",
        "colab": {
          "base_uri": "https://localhost:8080/",
          "height": 34
        },
        "outputId": "9246c37f-b6a8-4d1b-d7cc-07ea71e95b4f"
      },
      "source": [
        "ranking = defaultdict(int)\n",
        "for i, sent in enumerate(sentences):\n",
        "    for word in word_tokenize(sent.lower()):\n",
        "        if word in freq:\n",
        "            ranking[i]+=freq[word]\n",
        "    top_sentences = nlargest(10, ranking, ranking.get)\n",
        "print(top_sentences)"
      ],
      "execution_count": 8,
      "outputs": [
        {
          "output_type": "stream",
          "text": [
            "[63, 163, 57, 164, 0, 110, 55, 11, 4, 46]\n"
          ],
          "name": "stdout"
        }
      ]
    },
    {
      "cell_type": "code",
      "metadata": {
        "id": "RBd3OYx6-Fqu",
        "colab_type": "code",
        "colab": {
          "base_uri": "https://localhost:8080/",
          "height": 35
        },
        "outputId": "63ff6058-2758-494a-cd1b-1809798bd387"
      },
      "source": [
        "sentences[63]"
      ],
      "execution_count": 9,
      "outputs": [
        {
          "output_type": "execute_result",
          "data": {
            "application/vnd.google.colaboratory.intrinsic+json": {
              "type": "string"
            },
            "text/plain": [
              "'The music video for the song later went on to break the record for the most-liked music video by a Korean girl group on YouTube as well as the most-viewed K-pop group music video in the first 24 hours of release.'"
            ]
          },
          "metadata": {
            "tags": []
          },
          "execution_count": 9
        }
      ]
    },
    {
      "cell_type": "code",
      "metadata": {
        "id": "qxjMi6r1Uc1b",
        "colab_type": "code",
        "colab": {
          "base_uri": "https://localhost:8080/",
          "height": 171
        },
        "outputId": "1792471f-37ff-4711-efd4-26b5c3810c34"
      },
      "source": [
        "result = \"\"\n",
        "for j in sorted(top_sentences):\n",
        "  result += \" \" + sentences[j]\n",
        "\n",
        "result.strip()"
      ],
      "execution_count": 10,
      "outputs": [
        {
          "output_type": "execute_result",
          "data": {
            "application/vnd.google.colaboratory.intrinsic+json": {
              "type": "string"
            },
            "text/plain": [
              "'Blackpink (Hangul: Blackpink; commonly stylized as BLACKPINK or Blackpink) is a South Korean girl group formed by YG Entertainment, consisting of members Jisoo, Jennie, Rosé, and Lisa. Blackpink is also the first female Korean act to receive a certification from the Recording Industry Association of America (RIAA) with their hit single \"Ddu-Du Ddu-Du\" (2018), which currently has the most-viewed music video by a Korean group on YouTube. Blackpink\\'s other accolades include the New Artist of the Year Awards at the 31st Golden Disc Awards and the 26th Seoul Music Awards, as well as recognition as the most powerful celebrities in South Korea by Forbes Korea in 2019, and as the first female Korean group on Forbes\\' 30 Under 30 Asia. The first girl group to debut under YG Entertainment in seven years, Blackpink released their debut single album, Square One, on August 8, 2016, consisting of tracks \"Boombayah\" and \"Whistle\". \"Playing with Fire\" was Blackpink\\'s second single to reach number one on the Billboard World Digital Song Sales chart and first K-pop girl group song to chart on the Canadian Hot 100. Blackpink\\'s commercial success in their first five months earned them several rookie awards at major Korean year-end music award shows, including the Asia Artist Awards, Melon Music Awards, Golden Disc Awards, Seoul Music Awards, and Gaon Chart Music Awards. The music video for the song later went on to break the record for the most-liked music video by a Korean girl group on YouTube as well as the most-viewed K-pop group music video in the first 24 hours of release. On the Billboard Hot 100 chart, the song debuted at number 33, giving Gaga her 25th top 40 hit and Blackpink their first, becoming the group\\'s highest-charting song in the United States to date as well as the highest-charting song by a K-pop girl group. Blackpink\\'s accolades include three People\\'s Choice Awards, a Teen Choice Award, an MTV Video Music Award, five Gaon Chart Music Awards, four Golden Disc Awards, three Melon Music Awards, four Mnet Asian Music Awards, two Seoul Music Awards, and five Guinness World Records. Their music video for \"Ddu-Du Ddu-Du\" became the most-watched music video by a South Korean group in January 2019 and became the first K-pop group music video to surpass one billion views in November 2019.'"
            ]
          },
          "metadata": {
            "tags": []
          },
          "execution_count": 10
        }
      ]
    }
  ]
}