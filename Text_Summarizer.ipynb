{
  "nbformat": 4,
  "nbformat_minor": 0,
  "metadata": {
    "colab": {
      "name": "Text Summarizer.ipynb",
      "provenance": [],
      "collapsed_sections": [],
      "toc_visible": true,
      "authorship_tag": "ABX9TyMACdC4KIDrJlnlGFJ56gsG",
      "include_colab_link": true
    },
    "kernelspec": {
      "name": "python3",
      "display_name": "Python 3"
    }
  },
  "cells": [
    {
      "cell_type": "markdown",
      "metadata": {
        "id": "view-in-github",
        "colab_type": "text"
      },
      "source": [
        "<a href=\"https://colab.research.google.com/github/trungduyen0220/nlp-text-summarization/blob/master/Text_Summarizer.ipynb\" target=\"_parent\"><img src=\"https://colab.research.google.com/assets/colab-badge.svg\" alt=\"Open In Colab\"/></a>"
      ]
    },
    {
      "cell_type": "markdown",
      "metadata": {
        "id": "kvPDxNEN40yC",
        "colab_type": "text"
      },
      "source": [
        "# Text Summarizer"
      ]
    },
    {
      "cell_type": "markdown",
      "metadata": {
        "id": "HZ0g9p_645sN",
        "colab_type": "text"
      },
      "source": [
        "###  Import the required libraries"
      ]
    },
    {
      "cell_type": "code",
      "metadata": {
        "id": "6SgSDZJpTjEZ",
        "colab_type": "code",
        "colab": {
          "base_uri": "https://localhost:8080/",
          "height": 204
        },
        "outputId": "74af5c9f-f0ff-47ca-9d7f-18c331f84e17"
      },
      "source": [
        "import numpy as np\n",
        "import pandas as pd\n",
        "from bs4 import BeautifulSoup\n",
        "import nltk\n",
        "import urllib.request\n",
        "from nltk.corpus import stopwords\n",
        "from nltk.tokenize import word_tokenize, sent_tokenize\n",
        "from string import punctuation\n",
        "from heapq import nlargest\n",
        "from collections import defaultdict\n",
        "from string import digits\n",
        "import re\n",
        "import string\n",
        "import random\n",
        "\n",
        "from nltk.tokenize import word_tokenize\n",
        "from nltk.corpus import stopwords\n",
        "from nltk.stem.wordnet import WordNetLemmatizer\n",
        "from nltk.corpus.reader.wordnet import NOUN, VERB, ADJ\n",
        "\n",
        "nltk.download('stopwords')\n",
        "nltk.download('punkt')\n",
        "nltk.download('wordnet')\n",
        "nltk.download('averaged_perceptron_tagger')"
      ],
      "execution_count": 1,
      "outputs": [
        {
          "output_type": "stream",
          "text": [
            "[nltk_data] Downloading package stopwords to /root/nltk_data...\n",
            "[nltk_data]   Package stopwords is already up-to-date!\n",
            "[nltk_data] Downloading package punkt to /root/nltk_data...\n",
            "[nltk_data]   Package punkt is already up-to-date!\n",
            "[nltk_data] Downloading package wordnet to /root/nltk_data...\n",
            "[nltk_data]   Package wordnet is already up-to-date!\n",
            "[nltk_data] Downloading package averaged_perceptron_tagger to\n",
            "[nltk_data]     /root/nltk_data...\n",
            "[nltk_data]   Package averaged_perceptron_tagger is already up-to-\n",
            "[nltk_data]       date!\n"
          ],
          "name": "stdout"
        },
        {
          "output_type": "execute_result",
          "data": {
            "text/plain": [
              "True"
            ]
          },
          "metadata": {
            "tags": []
          },
          "execution_count": 1
        }
      ]
    },
    {
      "cell_type": "markdown",
      "metadata": {
        "id": "FDHlGisk494u",
        "colab_type": "text"
      },
      "source": [
        "### Crawl data using Beautiful Soup"
      ]
    },
    {
      "cell_type": "code",
      "metadata": {
        "id": "f_1vGN-bTmLl",
        "colab_type": "code",
        "colab": {
          "base_uri": "https://localhost:8080/",
          "height": 105
        },
        "outputId": "ea5f435a-514b-44db-ff71-386b6ded3fed"
      },
      "source": [
        "url=\"https://en.wikipedia.org/wiki/Blackpink\"\n",
        "request = urllib.request.urlopen(url).read().decode('utf8','ignore')\n",
        "soup= BeautifulSoup(request, 'html.parser')\n",
        "text_p = soup.find_all('p')\n",
        "print(text_p[0:3])"
      ],
      "execution_count": 2,
      "outputs": [
        {
          "output_type": "stream",
          "text": [
            "[<p class=\"mw-empty-elt\">\n",
            "</p>, <p><b>Blackpink</b> (<a href=\"/wiki/Hangul\" title=\"Hangul\">Hangul</a>: 블랙핑크; commonly stylized as <b>BLACKPINK</b> or <b>BLΛƆKPIИK</b>) is a South Korean <a href=\"/wiki/Girl_group\" title=\"Girl group\">girl group</a> formed by <a href=\"/wiki/YG_Entertainment\" title=\"YG Entertainment\">YG Entertainment</a>, consisting of members <a href=\"/wiki/Jisoo_(singer,_born_1995)\" title=\"Jisoo (singer, born 1995)\">Jisoo</a>, <a href=\"/wiki/Jennie_(singer)\" title=\"Jennie (singer)\">Jennie</a>, <a href=\"/wiki/Ros%C3%A9_(singer)\" title=\"Rosé (singer)\">Rosé</a>, and <a href=\"/wiki/Lisa_(rapper)\" title=\"Lisa (rapper)\">Lisa</a>. The group debuted in August 2016 with their single album <i><a class=\"mw-redirect\" href=\"/wiki/Square_One_(Blackpink_album)\" title=\"Square One (Blackpink album)\">Square One</a></i>, which featured \"<a class=\"mw-redirect\" href=\"/wiki/Whistle_(Black_Pink_song)\" title=\"Whistle (Black Pink song)\">Whistle</a>\" and \"<a href=\"/wiki/Boombayah\" title=\"Boombayah\">Boombayah</a>\", their first number-one hits on South Korea's <a href=\"/wiki/Gaon_Digital_Chart\" title=\"Gaon Digital Chart\">Gaon Digital Chart</a> and the <i><a href=\"/wiki/Billboard_(magazine)\" title=\"Billboard (magazine)\">Billboard</a></i> <a href=\"/wiki/World_Digital_Song_Sales\" title=\"World Digital Song Sales\">World Digital Song Sales</a> chart, respectively.\n",
            "</p>, <p>Blackpink is the highest-charting female Korean act on the <a href=\"/wiki/Billboard_Hot_100\" title=\"Billboard Hot 100\"><i>Billboard</i> Hot 100</a>, peaking at number 13 with their 2020 single \"<a href=\"/wiki/Ice_Cream_(Blackpink_and_Selena_Gomez_song)\" title=\"Ice Cream (Blackpink and Selena Gomez song)\">Ice Cream</a>\", and on the <a href=\"/wiki/Billboard_200\" title=\"Billboard 200\"><i>Billboard</i> 200</a>, peaking at number 24 with <i><a href=\"/wiki/Kill_This_Love\" title=\"Kill This Love\">Kill This Love</a></i> (2019).<sup class=\"reference\" id=\"cite_ref-1\"><a href=\"#cite_note-1\">[1]</a></sup><sup class=\"reference\" id=\"cite_ref-2\"><a href=\"#cite_note-2\">[2]</a></sup> They were the first Korean girl group to enter and top <i>Billboard</i><span class=\"nowrap\" style=\"padding-left:0.1em;\">'</span>s <a class=\"mw-redirect\" href=\"/wiki/Emerging_Artists\" title=\"Emerging Artists\">Emerging Artists</a> chart and to top the <i>Billboard</i><span class=\"nowrap\" style=\"padding-left:0.1em;\">'</span>s World Digital Song Sales chart three times.<sup class=\"reference\" id=\"cite_ref-3\"><a href=\"#cite_note-3\">[3]</a></sup> Blackpink is also the first female Korean act to receive a certification from the <a href=\"/wiki/Recording_Industry_Association_of_America\" title=\"Recording Industry Association of America\">Recording Industry Association of America</a> (RIAA) with their hit single \"<a href=\"/wiki/Ddu-Du_Ddu-Du\" title=\"Ddu-Du Ddu-Du\">Ddu-Du Ddu-Du</a>\" (2018), which currently has the most-viewed music video by a Korean group on YouTube.<sup class=\"reference\" id=\"cite_ref-4\"><a href=\"#cite_note-4\">[4]</a></sup><sup class=\"reference\" id=\"cite_ref-5\"><a href=\"#cite_note-5\">[5]</a></sup> They have the most top 40 hits in the <a href=\"/wiki/United_Kingdom\" title=\"United Kingdom\">United Kingdom</a> among all Korean artists.<sup class=\"reference\" id=\"cite_ref-6\"><a href=\"#cite_note-6\">[6]</a></sup> Their 2018 single \"<a href=\"/wiki/Kiss_and_Make_Up_(Dua_Lipa_and_Blackpink_song)\" title=\"Kiss and Make Up (Dua Lipa and Blackpink song)\">Kiss and Make Up</a>\" was the first-ever song by a Korean group to receive a certification from the <a href=\"/wiki/British_Phonographic_Industry\" title=\"British Phonographic Industry\">British Phonographic Industry</a> (BPI)<sup class=\"reference\" id=\"cite_ref-7\"><a href=\"#cite_note-7\">[7]</a></sup><sup class=\"reference\" id=\"cite_ref-8\"><a href=\"#cite_note-8\">[8]</a></sup><sup class=\"reference\" id=\"cite_ref-9\"><a href=\"#cite_note-9\">[9]</a></sup> and to be certified platinum by the <a href=\"/wiki/Australian_Recording_Industry_Association\" title=\"Australian Recording Industry Association\">Australian Recording Industry Association</a> (ARIA).<sup class=\"reference\" id=\"cite_ref-10\"><a href=\"#cite_note-10\">[10]</a></sup> Furthermore, their 2020 single \"<a href=\"/wiki/How_You_Like_That\" title=\"How You Like That\">How You Like That</a>\" was the first-ever song by a Korean act to receive a certification from <a href=\"/wiki/Pro-M%C3%BAsica_Brasil\" title=\"Pro-Música Brasil\">Pro-Música Brasil</a>.\n",
            "</p>]\n"
          ],
          "name": "stdout"
        }
      ]
    },
    {
      "cell_type": "markdown",
      "metadata": {
        "id": "fcpBhE4F5GBW",
        "colab_type": "text"
      },
      "source": [
        "### Data preprocessing"
      ]
    },
    {
      "cell_type": "markdown",
      "metadata": {
        "id": "qi_h8g6j5Jyl",
        "colab_type": "text"
      },
      "source": [
        "#### 1.Handling strange data"
      ]
    },
    {
      "cell_type": "code",
      "metadata": {
        "id": "PJOk7nlpTzqc",
        "colab_type": "code",
        "colab": {
          "base_uri": "https://localhost:8080/",
          "height": 51
        },
        "outputId": "afaaef26-6db2-40da-9307-ca880fcca437"
      },
      "source": [
        "text = \"\"\n",
        "for i in range(0,len(text_p)):\n",
        "    text += text_p[i].text\n",
        "print(text[0:180])\n",
        "\n",
        "text = re.sub(r'\\[.*?\\]', \"\",text)\n",
        "text = text.replace(\"\\n\", \" \")\n",
        "text = text.replace(\".\", \". \")"
      ],
      "execution_count": 3,
      "outputs": [
        {
          "output_type": "stream",
          "text": [
            "\n",
            "Blackpink (Hangul: 블랙핑크; commonly stylized as BLACKPINK or BLΛƆKPIИK) is a South Korean girl group formed by YG Entertainment, consisting of members Jisoo, Jennie, Rosé, and Lisa.\n"
          ],
          "name": "stdout"
        }
      ]
    },
    {
      "cell_type": "markdown",
      "metadata": {
        "id": "_fMRgdBa5UIl",
        "colab_type": "text"
      },
      "source": [
        "#### 2.Lemmatization and process the data for vocabulary"
      ]
    },
    {
      "cell_type": "code",
      "metadata": {
        "id": "rRqPvF11va1M",
        "colab_type": "code",
        "colab": {
          "base_uri": "https://localhost:8080/",
          "height": 34
        },
        "outputId": "1bd5cb6a-2cbb-4ff1-9e03-1e656e77d8a5"
      },
      "source": [
        "tokens = word_tokenize(text)\n",
        "tags = nltk.pos_tag(tokens)\n",
        "lemmatizer = WordNetLemmatizer()\n",
        "\n",
        "words = \"\"\n",
        "for i, token in enumerate(tokens):\n",
        "  pos_tag = tags[i][1]\n",
        "  if pos_tag.startswith('N'):\n",
        "      lemma = lemmatizer.lemmatize(token, pos=NOUN)\n",
        "      words += lemma + \" \"\n",
        "  elif pos_tag.startswith('V'):\n",
        "      lemma = lemmatizer.lemmatize(token, pos=VERB)\n",
        "      words += lemma + \" \"\n",
        "  elif pos_tag.startswith('J'):\n",
        "      lemma = lemmatizer.lemmatize(token, pos=ADJ)\n",
        "      words += lemma + \" \"\n",
        "  else:\n",
        "      lemma = token\n",
        "      words += \" \"\n",
        "\n",
        "temp = []\n",
        "for t in words.split():\n",
        "  t = t.replace(\"BLΛƆKPIИK\", \"Blackpink\").replace(\"blλɔkpiиk\", \"Blackpink\").replace(\"블랙핑크\",\"Blackpink\")\n",
        "  t = t.lower().translate ({ord(c): \" \" for c in \"1234567890!@#$%^&*()[]{}/<>?\\\\|`~=_+'\"\"\"}).translate(str.maketrans('', '', string.punctuation))\n",
        "  s = ' '.join(t.split())\n",
        "  if( s != ''):\n",
        "    temp.append(s)\n",
        "\n",
        "print(temp[:10])"
      ],
      "execution_count": 4,
      "outputs": [
        {
          "output_type": "stream",
          "text": [
            "['blackpink', 'hangul', 'blackpink', 'stylize', 'blackpink', 'blackpink', 'be', 'south', 'korean', 'girl']\n"
          ],
          "name": "stdout"
        }
      ]
    },
    {
      "cell_type": "markdown",
      "metadata": {
        "id": "5g9eR-9y5s89",
        "colab_type": "text"
      },
      "source": [
        "#### 3. Cleaning stop words"
      ]
    },
    {
      "cell_type": "code",
      "metadata": {
        "id": "8wacX1fllCjP",
        "colab_type": "code",
        "colab": {}
      },
      "source": [
        "clean_token =temp[:]\n",
        "#define irrelevant words that include stop words , punctuations and numbers\n",
        "stopword = set(stopwords.words('english') + list(punctuation) + list(\"0123456789\") )\n",
        "for token in temp:\n",
        "    if token in stopword:\n",
        "        clean_token.remove(token)\n",
        "\n",
        "for i in clean_token:\n",
        "  if i == \"be\":\n",
        "    print(i)"
      ],
      "execution_count": 5,
      "outputs": []
    },
    {
      "cell_type": "markdown",
      "metadata": {
        "id": "4Ugkkg8o5yp1",
        "colab_type": "text"
      },
      "source": [
        "### Bag of words "
      ]
    },
    {
      "cell_type": "markdown",
      "metadata": {
        "id": "M6Kwq4xt6BbV",
        "colab_type": "text"
      },
      "source": [
        "Use frequency distribution to know how the word tokens are distributed."
      ]
    },
    {
      "cell_type": "code",
      "metadata": {
        "id": "dHPSC-RRUM6c",
        "colab_type": "code",
        "colab": {
          "base_uri": "https://localhost:8080/",
          "height": 187
        },
        "outputId": "7739e9e2-e226-4909-a87d-f17a66826f30"
      },
      "source": [
        "freq = nltk.FreqDist(clean_token)\n",
        "top_words=[]\n",
        "top_words=freq.most_common(100) # 100 most common words\n",
        "\n",
        "for i in range(10):\n",
        "  print(top_words[i])"
      ],
      "execution_count": 6,
      "outputs": [
        {
          "output_type": "stream",
          "text": [
            "('blackpink', 78)\n",
            "('group', 73)\n",
            "('music', 55)\n",
            "('first', 47)\n",
            "('release', 39)\n",
            "('debut', 36)\n",
            "('video', 36)\n",
            "('chart', 33)\n",
            "('girl', 31)\n",
            "('korean', 30)\n"
          ],
          "name": "stdout"
        }
      ]
    },
    {
      "cell_type": "markdown",
      "metadata": {
        "id": "1Nk7jrT_6Qs1",
        "colab_type": "text"
      },
      "source": [
        "Tokenize the text from the web page into sentences"
      ]
    },
    {
      "cell_type": "code",
      "metadata": {
        "id": "2W49X58jUOkY",
        "colab_type": "code",
        "colab": {
          "base_uri": "https://localhost:8080/",
          "height": 35
        },
        "outputId": "90e96975-209e-4faf-d6f8-810bcb9c0bec"
      },
      "source": [
        "sentences = sent_tokenize(text) \n",
        "sentences[0]"
      ],
      "execution_count": 7,
      "outputs": [
        {
          "output_type": "execute_result",
          "data": {
            "application/vnd.google.colaboratory.intrinsic+json": {
              "type": "string"
            },
            "text/plain": [
              "' Blackpink (Hangul: 블랙핑크; commonly stylized as BLACKPINK or BLΛƆKPIИK) is a South Korean girl group formed by YG Entertainment, consisting of members Jisoo, Jennie, Rosé, and Lisa.'"
            ]
          },
          "metadata": {
            "tags": []
          },
          "execution_count": 7
        }
      ]
    },
    {
      "cell_type": "markdown",
      "metadata": {
        "id": "tDNLPx6q6d-F",
        "colab_type": "text"
      },
      "source": [
        "Creating ranking for each sentence"
      ]
    },
    {
      "cell_type": "code",
      "metadata": {
        "id": "z60BeDseUbVb",
        "colab_type": "code",
        "colab": {
          "base_uri": "https://localhost:8080/",
          "height": 34
        },
        "outputId": "c86877f6-e89e-434d-dbf9-263cf6f10418"
      },
      "source": [
        "ranking = defaultdict(int)\n",
        "for i, sent in enumerate(sentences):\n",
        "    for word in word_tokenize(sent.lower()):\n",
        "        if word in freq:\n",
        "            ranking[i]+=freq[word]\n",
        "    top_sentences = nlargest(10, ranking, ranking.get)\n",
        "print(top_sentences)"
      ],
      "execution_count": 8,
      "outputs": [
        {
          "output_type": "stream",
          "text": [
            "[63, 163, 57, 164, 110, 55, 11, 4, 46, 14]\n"
          ],
          "name": "stdout"
        }
      ]
    },
    {
      "cell_type": "code",
      "metadata": {
        "id": "RBd3OYx6-Fqu",
        "colab_type": "code",
        "colab": {
          "base_uri": "https://localhost:8080/",
          "height": 35
        },
        "outputId": "f616b079-d5c5-408e-9a0c-037e99478a69"
      },
      "source": [
        "sentences[63]"
      ],
      "execution_count": 9,
      "outputs": [
        {
          "output_type": "execute_result",
          "data": {
            "application/vnd.google.colaboratory.intrinsic+json": {
              "type": "string"
            },
            "text/plain": [
              "'The music video for the song later went on to break the record for the most-liked music video by a Korean girl group on YouTube as well as the most-viewed K-pop group music video in the first 24 hours of release.'"
            ]
          },
          "metadata": {
            "tags": []
          },
          "execution_count": 9
        }
      ]
    },
    {
      "cell_type": "code",
      "metadata": {
        "id": "qxjMi6r1Uc1b",
        "colab_type": "code",
        "colab": {
          "base_uri": "https://localhost:8080/",
          "height": 86
        },
        "outputId": "267f071e-2740-49b6-d6a9-89bbe621b191"
      },
      "source": [
        "result = \"\"\n",
        "for j in sorted(top_sentences):\n",
        "  result += \" \" + sentences[j]\n",
        "\n",
        "result.strip()"
      ],
      "execution_count": 10,
      "outputs": [
        {
          "output_type": "execute_result",
          "data": {
            "application/vnd.google.colaboratory.intrinsic+json": {
              "type": "string"
            },
            "text/plain": [
              "'Blackpink is also the first female Korean act to receive a certification from the Recording Industry Association of America (RIAA) with their hit single \"Ddu-Du Ddu-Du\" (2018), which currently has the most-viewed music video by a Korean group on YouTube. Blackpink\\'s other accolades include the New Artist of the Year Awards at the 31st Golden Disc Awards and the 26th Seoul Music Awards, as well as recognition as the most powerful celebrities in South Korea by Forbes Korea in 2019, and as the first female Korean group on Forbes\\' 30 Under 30 Asia. Blackpink began forming when YG Entertainment held tryouts worldwide for preteen or teenage recruits to create a new girl group after launching its first girl group, 2NE1, in 2009. The first girl group to debut under YG Entertainment in seven years, Blackpink released their debut single album, Square One, on August 8, 2016, consisting of tracks \"Boombayah\" and \"Whistle\". \"Playing with Fire\" was Blackpink\\'s second single to reach number one on the Billboard World Digital Song Sales chart and first K-pop girl group song to chart on the Canadian Hot 100. Blackpink\\'s commercial success in their first five months earned them several rookie awards at major Korean year-end music award shows, including the Asia Artist Awards, Melon Music Awards, Golden Disc Awards, Seoul Music Awards, and Gaon Chart Music Awards. The music video for the song later went on to break the record for the most-liked music video by a Korean girl group on YouTube as well as the most-viewed K-pop group music video in the first 24 hours of release. On the Billboard Hot 100 chart, the song debuted at number 33, giving Gaga her 25th top 40 hit and Blackpink their first, becoming the group\\'s highest-charting song in the United States to date as well as the highest-charting song by a K-pop girl group. Blackpink\\'s accolades include three People\\'s Choice Awards, a Teen Choice Award, an MTV Video Music Award, five Gaon Chart Music Awards, four Golden Disc Awards, three Melon Music Awards, four Mnet Asian Music Awards, two Seoul Music Awards, and five Guinness World Records. Their music video for \"Ddu-Du Ddu-Du\" became the most-watched music video by a South Korean group in January 2019 and became the first K-pop group music video to surpass one billion views in November 2019.'"
            ]
          },
          "metadata": {
            "tags": []
          },
          "execution_count": 10
        }
      ]
    }
  ]
}